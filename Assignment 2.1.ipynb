{
 "cells": [
  {
   "cell_type": "code",
   "execution_count": 1,
   "metadata": {},
   "outputs": [
    {
     "name": "stdout",
     "output_type": "stream",
     "text": [
      "Enter numbers in comma separated format1,2,3,4\n",
      "List: ['1', '2', '3', '4']\n"
     ]
    }
   ],
   "source": [
    "#Program which accepts a sequence of comma-separated numbers from console and generate a list.\n",
    "\n",
    "x=input (\"Enter numbers in comma separated format\")\n",
    "list=x.split(\",\")\n",
    "print(\"List: %s\" %list)"
   ]
  }
 ],
 "metadata": {
  "kernelspec": {
   "display_name": "Python 3",
   "language": "python",
   "name": "python3"
  },
  "language_info": {
   "codemirror_mode": {
    "name": "ipython",
    "version": 3
   },
   "file_extension": ".py",
   "mimetype": "text/x-python",
   "name": "python",
   "nbconvert_exporter": "python",
   "pygments_lexer": "ipython3",
   "version": "3.6.4"
  }
 },
 "nbformat": 4,
 "nbformat_minor": 2
}
